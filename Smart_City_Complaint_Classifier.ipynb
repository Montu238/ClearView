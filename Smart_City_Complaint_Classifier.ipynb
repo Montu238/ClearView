{
  "nbformat": 4,
  "nbformat_minor": 0,
  "metadata": {
    "colab": {
      "provenance": [],
      "include_colab_link": true
    },
    "kernelspec": {
      "name": "python3",
      "display_name": "Python 3"
    },
    "language_info": {
      "name": "python"
    }
  },
  "cells": [
    {
      "cell_type": "markdown",
      "metadata": {
        "id": "view-in-github",
        "colab_type": "text"
      },
      "source": [
        "<a href=\"https://colab.research.google.com/github/Montu238/ClearView/blob/main/Smart_City_Complaint_Classifier.ipynb\" target=\"_parent\"><img src=\"https://colab.research.google.com/assets/colab-badge.svg\" alt=\"Open In Colab\"/></a>"
      ]
    },
    {
      "cell_type": "code",
      "source": [
        "#install dependencies\n",
        "!pip install -q langgraph langchain langchain-google-genai\n"
      ],
      "metadata": {
        "id": "mMfPUuiqDrox"
      },
      "execution_count": 19,
      "outputs": []
    },
    {
      "cell_type": "code",
      "source": [
        "import os\n",
        "import getpass\n",
        "from langgraph.graph import StateGraph, END\n",
        "from langchain_google_genai import ChatGoogleGenerativeAI\n",
        "from langchain_core.messages import HumanMessage\n",
        "from typing import TypedDict\n"
      ],
      "metadata": {
        "id": "ysfWEacXKkzW"
      },
      "execution_count": 20,
      "outputs": []
    },
    {
      "cell_type": "code",
      "source": [
        "# Secure API Key input\n",
        "GOOGLE_API_KEY = getpass.getpass(\"🔒 Enter your Gemini API Key: \")\n",
        "os.environ[\"GOOGLE_API_KEY\"] = GOOGLE_API_KEY\n",
        "\n",
        "# Initialize Gemini 1.5 Flash model using LangChain\n",
        "llm = ChatGoogleGenerativeAI(\n",
        "    model=\"models/gemini-1.5-flash-latest\",\n",
        "    temperature=0.2\n",
        ")"
      ],
      "metadata": {
        "colab": {
          "base_uri": "https://localhost:8080/"
        },
        "id": "W0m_bvCGEcEY",
        "outputId": "b0f19c2e-841d-4f23-f329-0f3f7475847e"
      },
      "execution_count": 21,
      "outputs": [
        {
          "name": "stdout",
          "output_type": "stream",
          "text": [
            "🔒 Enter your Gemini API Key: ··········\n"
          ]
        }
      ]
    },
    {
      "cell_type": "code",
      "source": [
        "class ComplaintState(TypedDict):\n",
        "    complaint: str\n",
        "    category: str\n",
        "    department: str\n",
        "\n",
        "def user_input_node(state: ComplaintState) -> ComplaintState:\n",
        "    complaint = input(\"📝 Enter your complaint: \")\n",
        "    return {\"complaint\": complaint, \"category\": \"\", \"department\": \"\"}\n"
      ],
      "metadata": {
        "id": "KnmaW-ZoFFHf"
      },
      "execution_count": 22,
      "outputs": []
    },
    {
      "cell_type": "code",
      "source": [
        "def classify_node(state: ComplaintState) -> ComplaintState:\n",
        "    prompt = f\"\"\"\n",
        "    Classify this citizen complaint into one of the following categories:\n",
        "    Garbage, Pothole, Streetlight, Water, Noise, Construction.\n",
        "\n",
        "    Complaint: \"{state['complaint']}\"\n",
        "\n",
        "    Only respond with the category name.\n",
        "    \"\"\"\n",
        "    response = llm.invoke([HumanMessage(content=prompt)])\n",
        "    category = response.content.strip().split()[0]\n",
        "    print(f\"🧠 Gemini classified it as: {category}\")\n",
        "    state[\"category\"] = category\n",
        "    return state\n"
      ],
      "metadata": {
        "id": "UyrIxzswFXcT"
      },
      "execution_count": 23,
      "outputs": []
    },
    {
      "cell_type": "code",
      "source": [
        "CATEGORY_TO_DEPT = {\n",
        "    \"Garbage\": \"Sanitation Department\",\n",
        "    \"Pothole\": \"Roads & Transport Department\",\n",
        "    \"Streetlight\": \"Electricity Department\",\n",
        "    \"Water\": \"Water Supply Department\",\n",
        "    \"Noise\": \"Pollution Control Unit\",\n",
        "    \"Construction\": \"Urban Development Authority\"\n",
        "}\n",
        "\n",
        "def route_node(state: ComplaintState) -> ComplaintState:\n",
        "    category = state[\"category\"]\n",
        "    dept = CATEGORY_TO_DEPT.get(category, \"General Maintenance\")\n",
        "    print(f\"📍 Routed to: {dept}\")\n",
        "    state[\"department\"] = dept\n",
        "    return state\n"
      ],
      "metadata": {
        "id": "bh8U8wkWFjwo"
      },
      "execution_count": 24,
      "outputs": []
    },
    {
      "cell_type": "code",
      "source": [
        "builder = StateGraph(ComplaintState)\n",
        "\n",
        "# Add nodes\n",
        "builder.add_node(\"user_input\", user_input_node)\n",
        "builder.add_node(\"classify\", classify_node)\n",
        "builder.add_node(\"route\", route_node)\n",
        "\n",
        "# Optional output node\n",
        "def user_output_node(state: ComplaintState):\n",
        "    print(\"\\n✅ Complaint Processed Successfully!\")\n",
        "    print(f\"📝 Complaint     : {state['complaint']}\")\n",
        "    print(f\"📂 Category      : {state['category']}\")\n",
        "    print(f\"🏢 Department    : {state['department']}\")\n",
        "    return state\n",
        "\n",
        "builder.add_node(\"user_output\", user_output_node)\n",
        "\n",
        "# Set entry and transitions\n",
        "builder.set_entry_point(\"user_input\")\n",
        "builder.add_edge(\"user_input\", \"classify\")\n",
        "builder.add_edge(\"classify\", \"route\")\n",
        "builder.add_edge(\"route\", \"user_output\")\n",
        "builder.add_edge(\"user_output\", END)\n"
      ],
      "metadata": {
        "colab": {
          "base_uri": "https://localhost:8080/"
        },
        "id": "UpmAKe-SF11L",
        "outputId": "ffd18037-8d1a-4e37-87fb-890c2570b3c8"
      },
      "execution_count": 25,
      "outputs": [
        {
          "output_type": "execute_result",
          "data": {
            "text/plain": [
              "<langgraph.graph.state.StateGraph at 0x7f5b96eb2390>"
            ]
          },
          "metadata": {},
          "execution_count": 25
        }
      ]
    },
    {
      "cell_type": "code",
      "source": [
        "graph = builder.compile()\n",
        "\n",
        "initial_state = {\n",
        "    \"complaint\": \"\",\n",
        "    \"category\": \"\",\n",
        "    \"department\": \"\"\n",
        "}\n",
        "\n",
        "graph.invoke(initial_state)\n"
      ],
      "metadata": {
        "colab": {
          "base_uri": "https://localhost:8080/"
        },
        "id": "4krrDo22GCdV",
        "outputId": "9d7fc2c0-82a9-479d-c5c2-90550558b28f"
      },
      "execution_count": 26,
      "outputs": [
        {
          "output_type": "stream",
          "name": "stdout",
          "text": [
            "📝 Enter your complaint: road from city bus stand to mg college is very poor and needs maintenance\n",
            "🧠 Gemini classified it as: Pothole\n",
            "📍 Routed to: Roads & Transport Department\n",
            "\n",
            "✅ Complaint Processed Successfully!\n",
            "📝 Complaint     : road from city bus stand to mg college is very poor and needs maintenance\n",
            "📂 Category      : Pothole\n",
            "🏢 Department    : Roads & Transport Department\n"
          ]
        },
        {
          "output_type": "execute_result",
          "data": {
            "text/plain": [
              "{'complaint': 'road from city bus stand to mg college is very poor and needs maintenance',\n",
              " 'category': 'Pothole',\n",
              " 'department': 'Roads & Transport Department'}"
            ]
          },
          "metadata": {},
          "execution_count": 26
        }
      ]
    }
  ]
}